{
 "cells": [
  {
   "cell_type": "markdown",
   "metadata": {},
   "source": [
    "# 数据归一化处理"
   ]
  },
  {
   "cell_type": "code",
   "execution_count": 1,
   "metadata": {},
   "outputs": [],
   "source": [
    "import numpy as np\n",
    "import matplotlib.pyplot as plt"
   ]
  },
  {
   "cell_type": "markdown",
   "metadata": {},
   "source": [
    "## 最值归一化 Normalization\n",
    "- 适用于分布有明显边界的情况\n",
    "- 受离群值(outlier)影响较大"
   ]
  },
  {
   "cell_type": "code",
   "execution_count": 2,
   "metadata": {},
   "outputs": [
    {
     "data": {
      "text/plain": [
       "array([78, 46, 23, 93, 97, 77, 74, 74, 40, 27, 27, 47, 95, 80, 44, 47, 34,\n",
       "        7, 45, 48, 94, 33, 14, 49, 95, 88, 31, 62, 75, 98, 69, 75, 57, 63,\n",
       "       52, 52, 28,  5,  0, 85, 99, 21,  7, 52, 45, 90, 94,  1, 10, 45, 14,\n",
       "        5, 31, 14, 25, 79, 64, 48, 20, 80, 50, 30, 33, 83,  0, 26,  5, 26,\n",
       "       55, 24, 81, 68, 75, 64, 90, 15, 13, 40, 48, 19, 15, 57, 12, 26, 60,\n",
       "       81, 45, 22, 49, 84, 52, 73, 14, 68, 24, 70, 47, 12, 52, 60])"
      ]
     },
     "execution_count": 2,
     "metadata": {},
     "output_type": "execute_result"
    }
   ],
   "source": [
    "x = np.random.randint(0, 100, size=100)\n",
    "x"
   ]
  },
  {
   "cell_type": "code",
   "execution_count": 3,
   "metadata": {},
   "outputs": [
    {
     "data": {
      "text/plain": [
       "array([0.78787879, 0.46464646, 0.23232323, 0.93939394, 0.97979798,\n",
       "       0.77777778, 0.74747475, 0.74747475, 0.4040404 , 0.27272727,\n",
       "       0.27272727, 0.47474747, 0.95959596, 0.80808081, 0.44444444,\n",
       "       0.47474747, 0.34343434, 0.07070707, 0.45454545, 0.48484848,\n",
       "       0.94949495, 0.33333333, 0.14141414, 0.49494949, 0.95959596,\n",
       "       0.88888889, 0.31313131, 0.62626263, 0.75757576, 0.98989899,\n",
       "       0.6969697 , 0.75757576, 0.57575758, 0.63636364, 0.52525253,\n",
       "       0.52525253, 0.28282828, 0.05050505, 0.        , 0.85858586,\n",
       "       1.        , 0.21212121, 0.07070707, 0.52525253, 0.45454545,\n",
       "       0.90909091, 0.94949495, 0.01010101, 0.1010101 , 0.45454545,\n",
       "       0.14141414, 0.05050505, 0.31313131, 0.14141414, 0.25252525,\n",
       "       0.7979798 , 0.64646465, 0.48484848, 0.2020202 , 0.80808081,\n",
       "       0.50505051, 0.3030303 , 0.33333333, 0.83838384, 0.        ,\n",
       "       0.26262626, 0.05050505, 0.26262626, 0.55555556, 0.24242424,\n",
       "       0.81818182, 0.68686869, 0.75757576, 0.64646465, 0.90909091,\n",
       "       0.15151515, 0.13131313, 0.4040404 , 0.48484848, 0.19191919,\n",
       "       0.15151515, 0.57575758, 0.12121212, 0.26262626, 0.60606061,\n",
       "       0.81818182, 0.45454545, 0.22222222, 0.49494949, 0.84848485,\n",
       "       0.52525253, 0.73737374, 0.14141414, 0.68686869, 0.24242424,\n",
       "       0.70707071, 0.47474747, 0.12121212, 0.52525253, 0.60606061])"
      ]
     },
     "execution_count": 3,
     "metadata": {},
     "output_type": "execute_result"
    }
   ],
   "source": [
    "(x - np.min(x)) / (np.max(x) - np.min(x))"
   ]
  },
  {
   "cell_type": "code",
   "execution_count": 4,
   "metadata": {},
   "outputs": [
    {
     "data": {
      "text/plain": [
       "array([[92, 32],\n",
       "       [15, 85],\n",
       "       [58, 63],\n",
       "       [74, 59],\n",
       "       [ 6, 10],\n",
       "       [19, 66],\n",
       "       [20, 76],\n",
       "       [13, 64],\n",
       "       [ 3, 94],\n",
       "       [82,  3]])"
      ]
     },
     "execution_count": 4,
     "metadata": {},
     "output_type": "execute_result"
    }
   ],
   "source": [
    "X = np.random.randint(0, 100, size=(50, 2))\n",
    "X[:10, :]"
   ]
  },
  {
   "cell_type": "code",
   "execution_count": 5,
   "metadata": {},
   "outputs": [
    {
     "data": {
      "text/plain": [
       "array([[92., 32.],\n",
       "       [15., 85.],\n",
       "       [58., 63.],\n",
       "       [74., 59.],\n",
       "       [ 6., 10.],\n",
       "       [19., 66.],\n",
       "       [20., 76.],\n",
       "       [13., 64.],\n",
       "       [ 3., 94.],\n",
       "       [82.,  3.]])"
      ]
     },
     "execution_count": 5,
     "metadata": {},
     "output_type": "execute_result"
    }
   ],
   "source": [
    "X = np.array(X, dtype=float)\n",
    "X[:10, :]"
   ]
  },
  {
   "cell_type": "code",
   "execution_count": 6,
   "metadata": {},
   "outputs": [
    {
     "data": {
      "text/plain": [
       "array([[0.92708333, 0.3125    ],\n",
       "       [0.125     , 0.86458333],\n",
       "       [0.57291667, 0.63541667],\n",
       "       [0.73958333, 0.59375   ],\n",
       "       [0.03125   , 0.08333333],\n",
       "       [0.16666667, 0.66666667],\n",
       "       [0.17708333, 0.77083333],\n",
       "       [0.10416667, 0.64583333],\n",
       "       [0.        , 0.95833333],\n",
       "       [0.82291667, 0.01041667]])"
      ]
     },
     "execution_count": 6,
     "metadata": {},
     "output_type": "execute_result"
    }
   ],
   "source": [
    "for i in range(2):\n",
    "    X[:, i] = (X[:, i] - np.min(X[:, i])) / (np.max(X[:, i]) - np.min(X[:, i]))\n",
    "X[:10, :]"
   ]
  },
  {
   "cell_type": "code",
   "execution_count": 7,
   "metadata": {
    "scrolled": true
   },
   "outputs": [
    {
     "data": {
      "text/plain": [
       "<matplotlib.collections.PathCollection at 0x117452080>"
      ]
     },
     "execution_count": 7,
     "metadata": {},
     "output_type": "execute_result"
    },
    {
     "data": {
      "image/png": "[encoded data removed]",
      "text/plain": [
       "<Figure size 432x288 with 1 Axes>"
      ]
     },
     "metadata": {},
     "output_type": "display_data"
    }
   ],
   "source": [
    "plt.scatter(X[:, 0], X[:, 1])"
   ]
  },
  {
   "cell_type": "code",
   "execution_count": 8,
   "metadata": {},
   "outputs": [
    {
     "name": "stdout",
     "output_type": "stream",
     "text": [
      "0.4942 - 0.3001\n",
      "0.5092 - 0.2819\n"
     ]
    }
   ],
   "source": [
    "print(f'{np.mean(X[:, 0]):.4f} - {np.std(X[:, 0]):.4f}')\n",
    "print(f'{np.mean(X[:, 1]):.4f} - {np.std(X[:, 1]):.4f}')"
   ]
  },
  {
   "cell_type": "markdown",
   "metadata": {},
   "source": [
    "## 标准归一化 Standardization\n",
    "- 适用于数据分布没有明显的边界, 有可能存在极端数据值的情况\n",
    "- 均值方差归一化: 把所有数据归一到均值为0标准差为1的分布中"
   ]
  },
  {
   "cell_type": "code",
   "execution_count": 9,
   "metadata": {},
   "outputs": [
    {
     "data": {
      "text/plain": [
       "array([[15., 77.],\n",
       "       [98., 75.],\n",
       "       [84., 83.],\n",
       "       [17., 56.],\n",
       "       [ 0., 34.],\n",
       "       [ 6., 14.],\n",
       "       [ 7., 18.],\n",
       "       [46., 98.],\n",
       "       [76., 11.],\n",
       "       [93., 38.]])"
      ]
     },
     "execution_count": 9,
     "metadata": {},
     "output_type": "execute_result"
    }
   ],
   "source": [
    "X2 = np.random.randint(0, 100, size=(50, 2))\n",
    "X2 = np.array(X2, dtype=float)\n",
    "X2[:10, :]"
   ]
  },
  {
   "cell_type": "code",
   "execution_count": 10,
   "metadata": {},
   "outputs": [
    {
     "data": {
      "text/plain": [
       "array([[-1.00426828,  0.71160019],\n",
       "       [ 1.65540841,  0.64356958],\n",
       "       [ 1.20678824,  0.91569203],\n",
       "       [-0.94017969, -0.00272122],\n",
       "       [-1.48493275, -0.75105795],\n",
       "       [-1.29266696, -1.43136406],\n",
       "       [-1.26062266, -1.29530284],\n",
       "       [-0.01089506,  1.42592161],\n",
       "       [ 0.95043386, -1.53340997],\n",
       "       [ 1.49518692, -0.61499672]])"
      ]
     },
     "execution_count": 10,
     "metadata": {},
     "output_type": "execute_result"
    }
   ],
   "source": [
    "for i in range(2):\n",
    "    X2[:, i] = (X2[:, i] - np.mean(X2[:, i])) / np.std(X2[:, i])\n",
    "X2[:10, :]"
   ]
  },
  {
   "cell_type": "code",
   "execution_count": 11,
   "metadata": {},
   "outputs": [
    {
     "data": {
      "text/plain": [
       "<matplotlib.collections.PathCollection at 0x11751b710>"
      ]
     },
     "execution_count": 11,
     "metadata": {},
     "output_type": "execute_result"
    },
    {
     "data": {
      "image/png": "[encoded data removed]",
      "text/plain": [
       "<Figure size 432x288 with 1 Axes>"
      ]
     },
     "metadata": {},
     "output_type": "display_data"
    }
   ],
   "source": [
    "plt.scatter(X2[:, 0], X2[:, 1])"
   ]
  },
  {
   "cell_type": "code",
   "execution_count": 12,
   "metadata": {},
   "outputs": [
    {
     "name": "stdout",
     "output_type": "stream",
     "text": [
      "-0.0000 - 1.0000\n",
      "0.0000 - 1.0000\n"
     ]
    }
   ],
   "source": [
    "print(f'{np.mean(X2[:, 0]):.4f} - {np.std(X2[:, 0]):.4f}')\n",
    "print(f'{np.mean(X2[:, 1]):.4f} - {np.std(X2[:, 1]):.4f}')"
   ]
  }
 ],
 "metadata": {
  "kernelspec": {
   "display_name": "Python 3",
   "language": "python",
   "name": "python3"
  },
  "language_info": {
   "codemirror_mode": {
    "name": "ipython",
    "version": 3
   },
   "file_extension": ".py",
   "mimetype": "text/x-python",
   "name": "python",
   "nbconvert_exporter": "python",
   "pygments_lexer": "ipython3",
   "version": "3.7.2"
  },
  "toc": {
   "base_numbering": 1,
   "nav_menu": {},
   "number_sections": true,
   "sideBar": true,
   "skip_h1_title": false,
   "title_cell": "Table of Contents",
   "title_sidebar": "Contents",
   "toc_cell": false,
   "toc_position": {},
   "toc_section_display": true,
   "toc_window_display": false
  },
  "varInspector": {
   "cols": {
    "lenName": 16,
    "lenType": 16,
    "lenVar": 40
   },
   "kernels_config": {
    "python": {
     "delete_cmd_postfix": "",
     "delete_cmd_prefix": "del ",
     "library": "var_list.py",
     "varRefreshCmd": "print(var_dic_list())"
    },
    "r": {
     "delete_cmd_postfix": ") ",
     "delete_cmd_prefix": "rm(",
     "library": "var_list.r",
     "varRefreshCmd": "cat(var_dic_list()) "
    }
   },
   "types_to_exclude": [
    "module",
    "function",
    "builtin_function_or_method",
    "instance",
    "_Feature"
   ],
   "window_display": false
  }
 },
 "nbformat": 4,
 "nbformat_minor": 2
}
